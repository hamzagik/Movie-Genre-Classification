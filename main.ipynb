{
 "cells": [
  {
   "cell_type": "code",
   "execution_count": 1,
   "metadata": {},
   "outputs": [],
   "source": [
    "import numpy as np\n",
    "import pandas as pd\n",
    "from sklearn.feature_extraction.text import TfidfVectorizer\n",
    "from sklearn.multioutput import MultiOutputClassifier\n",
    "from sklearn.naive_bayes import MultinomialNB\n",
    "from sklearn.preprocessing import MultiLabelBinarizer\n",
    "from sklearn.metrics import accuracy_score, precision_score, recall_score, f1_score\n",
    "from tqdm import tqdm \n"
   ]
  },
  {
   "cell_type": "code",
   "execution_count": 2,
   "metadata": {},
   "outputs": [
    {
     "name": "stdout",
     "output_type": "stream",
     "text": [
      "Unique genres in the dataset: {'sport', 'thriller', 'sci-fi', 'music', 'history', 'musical', 'adult', 'reality-tv', 'short', 'comedy', 'drama', 'family', 'documentary', 'crime', 'fantasy', 'western', 'animation', 'war', 'biography', 'romance', 'adventure', 'mystery', 'action', 'news', 'game-show', 'talk-show', 'horror'}\n"
     ]
    }
   ],
   "source": [
    "# Initialize an empty set to store unique genres\n",
    "unique_genres = set()\n",
    "\n",
    "# Assuming your dataset file is named 'your_dataset.txt'\n",
    "with open(r'C:\\Users\\GDIT\\Desktop\\GIKI\\Hamza\\CodSoft\\Movie Genre Classification\\Genre Classification Dataset\\train_data.txt', 'r', encoding='utf-8') as file:\n",
    "    for line in file:\n",
    "        # Split the line by ':::' to extract the genre part\n",
    "        parts = line.strip().split(':::')\n",
    "        if len(parts) >= 3:\n",
    "            genres_list = parts[2].strip().split(',')  # Assuming genres are separated by commas\n",
    "            unique_genres.update(genres_list)\n",
    "\n",
    "# Print the unique genres\n",
    "print(\"Unique genres in the dataset:\", unique_genres)\n"
   ]
  },
  {
   "cell_type": "code",
   "execution_count": 3,
   "metadata": {},
   "outputs": [],
   "source": [
    "# define a fallback genre for which the model finds hard to predict\n",
    "fallback_genre = 'Unknown'"
   ]
  },
  {
   "cell_type": "code",
   "execution_count": 6,
   "metadata": {},
   "outputs": [
    {
     "name": "stderr",
     "output_type": "stream",
     "text": [
      "Loading Train Data: 100%|██████████| 50/50 [00:00<00:00, 115.71it/s]\n"
     ]
    }
   ],
   "source": [
    "# Load the training data set \n",
    "try:\n",
    "    with tqdm(total=50, desc=\"Loading Train Data\") as pbar:\n",
    "        train_data = pd.read_csv(r'C:\\Users\\GDIT\\Desktop\\GIKI\\Hamza\\CodSoft\\Movie Genre Classification\\Genre Classification Dataset\\train_data.txt', sep=':::', header=None, names=['SerialNumber', 'MOVIE_NAME', 'GENRE', 'MOVIE_PLOT'], engine='python')\n",
    "        pbar.update(50)\n",
    "except Exception as e:\n",
    "    print(f\"Error loading train_data: {e}\")\n",
    "    raise\n"
   ]
  },
  {
   "cell_type": "code",
   "execution_count": 7,
   "metadata": {},
   "outputs": [],
   "source": [
    "# data processing for training the data and testing\n",
    "X_train = train_data['MOVIE_PLOT'].astype(str).apply(lambda doc: doc.lower())\n",
    "genre_labels = [genre.split(', ') for genre in train_data['GENRE']]\n",
    "mlb = MultiLabelBinarizer()\n",
    "y_train = mlb.fit_transform(genre_labels)"
   ]
  },
  {
   "cell_type": "code",
   "execution_count": 9,
   "metadata": {},
   "outputs": [],
   "source": [
    "# TF-IDF Vectorization\n",
    "tfidf_vectorizer = TfidfVectorizer(max_features=5000)"
   ]
  },
  {
   "cell_type": "code",
   "execution_count": 10,
   "metadata": {},
   "outputs": [
    {
     "name": "stderr",
     "output_type": "stream",
     "text": [
      "Vectorizing Training Data:   0%|          | 0/50 [00:00<?, ?it/s]"
     ]
    },
    {
     "name": "stderr",
     "output_type": "stream",
     "text": [
      "Vectorizing Training Data: 100%|██████████| 50/50 [00:06<00:00,  7.56it/s]\n"
     ]
    }
   ],
   "source": [
    "# Fit and transform the training data with progress bar\n",
    "with tqdm(total=50, desc=\"Vectorizing Training Data\") as pbar:\n",
    "    X_train_tfidf = tfidf_vectorizer.fit_transform(X_train)\n",
    "    pbar.update(50)"
   ]
  },
  {
   "cell_type": "code",
   "execution_count": 18,
   "metadata": {},
   "outputs": [
    {
     "name": "stderr",
     "output_type": "stream",
     "text": [
      "Training Model: 100%|██████████| 50/50 [00:00<00:00, 53.26it/s]\n"
     ]
    }
   ],
   "source": [
    "# Train a MultiOutput Naive Bayes classifier using the training data\n",
    "with tqdm(total=50, desc=\"Training Model\") as pbar:\n",
    "    naive_bayes = MultinomialNB()\n",
    "    multi_output_classifier = MultiOutputClassifier(naive_bayes)\n",
    "    multi_output_classifier.fit(X_train_tfidf, y_train)\n",
    "    pbar.update(50)"
   ]
  },
  {
   "cell_type": "code",
   "execution_count": 12,
   "metadata": {},
   "outputs": [
    {
     "name": "stderr",
     "output_type": "stream",
     "text": [
      "Loading Test Data: 100%|██████████| 50/50 [00:00<00:00, 91.06it/s]\n"
     ]
    }
   ],
   "source": [
    "# Load test dataset from test_data.txt\n",
    "try:\n",
    "    with tqdm(total=50, desc=\"Loading Test Data\") as pbar:\n",
    "        test_data = pd.read_csv(r'C:\\Users\\GDIT\\Desktop\\GIKI\\Hamza\\CodSoft\\Movie Genre Classification\\Genre Classification Dataset\\test_data.txt', sep=':::', header=None, names=['SerialNumber', 'MOVIE_NAME', 'MOVIE_PLOT'], engine='python')\n",
    "        pbar.update(50)\n",
    "except Exception as e:\n",
    "    print(f\"Error loading test_data: {e}\")\n",
    "    raise"
   ]
  },
  {
   "cell_type": "code",
   "execution_count": 13,
   "metadata": {},
   "outputs": [],
   "source": [
    "# Data preprocessing for test data\n",
    "X_test = test_data['MOVIE_PLOT'].astype(str).apply(lambda doc: doc.lower())"
   ]
  },
  {
   "cell_type": "code",
   "execution_count": 14,
   "metadata": {},
   "outputs": [
    {
     "name": "stderr",
     "output_type": "stream",
     "text": [
      "Vectorizing Test Data: 100%|██████████| 50/50 [00:06<00:00,  8.15it/s]\n"
     ]
    }
   ],
   "source": [
    "# Transform the test data with progress bar\n",
    "with tqdm(total=50, desc=\"Vectorizing Test Data\") as pbar:\n",
    "    X_test_tfidf = tfidf_vectorizer.transform(X_test)\n",
    "    pbar.update(50)"
   ]
  },
  {
   "cell_type": "code",
   "execution_count": 17,
   "metadata": {},
   "outputs": [
    {
     "name": "stderr",
     "output_type": "stream",
     "text": [
      "Predicting on Test Data: 100%|██████████| 50/50 [00:00<00:00, 72.90it/s]\n"
     ]
    }
   ],
   "source": [
    "# Predict genres on the test data\n",
    "with tqdm(total=50, desc=\"Predicting on Test Data\") as pbar:\n",
    "    y_pred = multi_output_classifier.predict(X_test_tfidf)\n",
    "    pbar.update(50)"
   ]
  },
  {
   "cell_type": "code",
   "execution_count": 19,
   "metadata": {},
   "outputs": [],
   "source": [
    "# Create a DataFrame for test data with movie names and predicted genres\n",
    "test_movie_names = test_data['MOVIE_NAME']\n",
    "predicted_genres = mlb.inverse_transform(y_pred)\n",
    "test_results = pd.DataFrame({'MOVIE_NAME': test_movie_names, 'PREDICTED_GENRES': predicted_genres})"
   ]
  },
  {
   "cell_type": "code",
   "execution_count": 20,
   "metadata": {},
   "outputs": [],
   "source": [
    "# Replace empty unpredicted genres with the fallback genre\n",
    "test_results['PREDICTED_GENRES'] = test_results['PREDICTED_GENRES'].apply(lambda genres: [fallback_genre] if len(genres) == 0 else genres)"
   ]
  },
  {
   "cell_type": "code",
   "execution_count": 21,
   "metadata": {},
   "outputs": [],
   "source": [
    "# Write the results to an output text file with proper formatting\n",
    "with open(\"model_evaluation.txt\", \"w\", encoding=\"utf-8\") as output_file:\n",
    "    for _, row in test_results.iterrows():\n",
    "        movie_name = row['MOVIE_NAME']\n",
    "        genre_str = ', '.join(row['PREDICTED_GENRES'])\n",
    "        output_file.write(f\"{movie_name} ::: {genre_str}\\n\")"
   ]
  },
  {
   "cell_type": "code",
   "execution_count": 22,
   "metadata": {},
   "outputs": [],
   "source": [
    "# Calculate evaluation metrics using training labels (as a proxy)\n",
    "y_train_pred = multi_output_classifier.predict(X_train_tfidf)"
   ]
  },
  {
   "cell_type": "code",
   "execution_count": 23,
   "metadata": {},
   "outputs": [],
   "source": [
    "# Calculate evaluation metrics\n",
    "accuracy = accuracy_score(y_train, y_train_pred)\n",
    "precision = precision_score(y_train, y_train_pred, average='micro')\n",
    "recall = recall_score(y_train, y_train_pred, average='micro')\n",
    "f1 = f1_score(y_train, y_train_pred, average='micro')"
   ]
  },
  {
   "cell_type": "code",
   "execution_count": 24,
   "metadata": {},
   "outputs": [],
   "source": [
    "# Append the evaluation metrics to the output file\n",
    "with open(\"model_evaluation.txt\", \"a\", encoding=\"utf-8\") as output_file:\n",
    "    output_file.write(\"\\n\\nModel Evaluation Metrics:\\n\")\n",
    "    output_file.write(f\"Accuracy: {accuracy * 100:.2f}%\\n\")\n",
    "    output_file.write(f\"Precision: {precision:.2f}\\n\")\n",
    "    output_file.write(f\"Recall: {recall:.2f}\\n\")\n",
    "    output_file.write(f\"F1-score: {f1:.2f}\\n\")"
   ]
  },
  {
   "cell_type": "code",
   "execution_count": 25,
   "metadata": {},
   "outputs": [
    {
     "name": "stdout",
     "output_type": "stream",
     "text": [
      "Model evaluation results and metrics have been saved to 'model_evaluation.txt'.\n"
     ]
    }
   ],
   "source": [
    "print(\"Model evaluation results and metrics have been saved to 'model_evaluation.txt'.\")"
   ]
  }
 ],
 "metadata": {
  "kernelspec": {
   "display_name": "Python 3",
   "language": "python",
   "name": "python3"
  },
  "language_info": {
   "codemirror_mode": {
    "name": "ipython",
    "version": 3
   },
   "file_extension": ".py",
   "mimetype": "text/x-python",
   "name": "python",
   "nbconvert_exporter": "python",
   "pygments_lexer": "ipython3",
   "version": "3.10.5"
  }
 },
 "nbformat": 4,
 "nbformat_minor": 2
}
